{
 "cells": [
  {
   "cell_type": "code",
   "execution_count": 16,
   "id": "732b8043-c5cf-4f11-bfe4-fa811ad58f7c",
   "metadata": {},
   "outputs": [],
   "source": [
    "import pandas as pd\n",
    "import numpy as np\n",
    "import string\n",
    "from nltk.tokenize import word_tokenize\n",
    "from nltk.corpus import stopwords\n",
    "from nltk import pos_tag\n",
    "from gensim.models import Word2Vec\n",
    "from annoy import AnnoyIndex\n",
    "from gensim.models import KeyedVectors"
   ]
  },
  {
   "cell_type": "code",
   "execution_count": 2,
   "id": "fb7e3d1d-7379-4938-b54c-758d65174eb2",
   "metadata": {},
   "outputs": [],
   "source": [
    "df = pd.read_csv('wiki_movie_plots_deduped.csv')"
   ]
  },
  {
   "cell_type": "code",
   "execution_count": 3,
   "id": "e8d29689-1bd4-4ecf-9eec-4361d99a05cd",
   "metadata": {},
   "outputs": [
    {
     "data": {
      "text/html": [
       "<div>\n",
       "<style scoped>\n",
       "    .dataframe tbody tr th:only-of-type {\n",
       "        vertical-align: middle;\n",
       "    }\n",
       "\n",
       "    .dataframe tbody tr th {\n",
       "        vertical-align: top;\n",
       "    }\n",
       "\n",
       "    .dataframe thead th {\n",
       "        text-align: right;\n",
       "    }\n",
       "</style>\n",
       "<table border=\"1\" class=\"dataframe\">\n",
       "  <thead>\n",
       "    <tr style=\"text-align: right;\">\n",
       "      <th></th>\n",
       "      <th>Release Year</th>\n",
       "      <th>Title</th>\n",
       "      <th>Origin/Ethnicity</th>\n",
       "      <th>Director</th>\n",
       "      <th>Cast</th>\n",
       "      <th>Genre</th>\n",
       "      <th>Wiki Page</th>\n",
       "      <th>Plot</th>\n",
       "    </tr>\n",
       "  </thead>\n",
       "  <tbody>\n",
       "    <tr>\n",
       "      <th>0</th>\n",
       "      <td>1901</td>\n",
       "      <td>Kansas Saloon Smashers</td>\n",
       "      <td>American</td>\n",
       "      <td>Unknown</td>\n",
       "      <td>NaN</td>\n",
       "      <td>unknown</td>\n",
       "      <td>https://en.wikipedia.org/wiki/Kansas_Saloon_Sm...</td>\n",
       "      <td>A bartender is working at a saloon, serving dr...</td>\n",
       "    </tr>\n",
       "    <tr>\n",
       "      <th>1</th>\n",
       "      <td>1901</td>\n",
       "      <td>Love by the Light of the Moon</td>\n",
       "      <td>American</td>\n",
       "      <td>Unknown</td>\n",
       "      <td>NaN</td>\n",
       "      <td>unknown</td>\n",
       "      <td>https://en.wikipedia.org/wiki/Love_by_the_Ligh...</td>\n",
       "      <td>The moon, painted with a smiling face hangs ov...</td>\n",
       "    </tr>\n",
       "    <tr>\n",
       "      <th>2</th>\n",
       "      <td>1901</td>\n",
       "      <td>The Martyred Presidents</td>\n",
       "      <td>American</td>\n",
       "      <td>Unknown</td>\n",
       "      <td>NaN</td>\n",
       "      <td>unknown</td>\n",
       "      <td>https://en.wikipedia.org/wiki/The_Martyred_Pre...</td>\n",
       "      <td>The film, just over a minute long, is composed...</td>\n",
       "    </tr>\n",
       "    <tr>\n",
       "      <th>3</th>\n",
       "      <td>1901</td>\n",
       "      <td>Terrible Teddy, the Grizzly King</td>\n",
       "      <td>American</td>\n",
       "      <td>Unknown</td>\n",
       "      <td>NaN</td>\n",
       "      <td>unknown</td>\n",
       "      <td>https://en.wikipedia.org/wiki/Terrible_Teddy,_...</td>\n",
       "      <td>Lasting just 61 seconds and consisting of two ...</td>\n",
       "    </tr>\n",
       "    <tr>\n",
       "      <th>4</th>\n",
       "      <td>1902</td>\n",
       "      <td>Jack and the Beanstalk</td>\n",
       "      <td>American</td>\n",
       "      <td>George S. Fleming, Edwin S. Porter</td>\n",
       "      <td>NaN</td>\n",
       "      <td>unknown</td>\n",
       "      <td>https://en.wikipedia.org/wiki/Jack_and_the_Bea...</td>\n",
       "      <td>The earliest known adaptation of the classic f...</td>\n",
       "    </tr>\n",
       "  </tbody>\n",
       "</table>\n",
       "</div>"
      ],
      "text/plain": [
       "   Release Year                             Title Origin/Ethnicity  \\\n",
       "0          1901            Kansas Saloon Smashers         American   \n",
       "1          1901     Love by the Light of the Moon         American   \n",
       "2          1901           The Martyred Presidents         American   \n",
       "3          1901  Terrible Teddy, the Grizzly King         American   \n",
       "4          1902            Jack and the Beanstalk         American   \n",
       "\n",
       "                             Director Cast    Genre  \\\n",
       "0                             Unknown  NaN  unknown   \n",
       "1                             Unknown  NaN  unknown   \n",
       "2                             Unknown  NaN  unknown   \n",
       "3                             Unknown  NaN  unknown   \n",
       "4  George S. Fleming, Edwin S. Porter  NaN  unknown   \n",
       "\n",
       "                                           Wiki Page  \\\n",
       "0  https://en.wikipedia.org/wiki/Kansas_Saloon_Sm...   \n",
       "1  https://en.wikipedia.org/wiki/Love_by_the_Ligh...   \n",
       "2  https://en.wikipedia.org/wiki/The_Martyred_Pre...   \n",
       "3  https://en.wikipedia.org/wiki/Terrible_Teddy,_...   \n",
       "4  https://en.wikipedia.org/wiki/Jack_and_the_Bea...   \n",
       "\n",
       "                                                Plot  \n",
       "0  A bartender is working at a saloon, serving dr...  \n",
       "1  The moon, painted with a smiling face hangs ov...  \n",
       "2  The film, just over a minute long, is composed...  \n",
       "3  Lasting just 61 seconds and consisting of two ...  \n",
       "4  The earliest known adaptation of the classic f...  "
      ]
     },
     "execution_count": 3,
     "metadata": {},
     "output_type": "execute_result"
    }
   ],
   "source": [
    "df.head()"
   ]
  },
  {
   "cell_type": "code",
   "execution_count": 4,
   "id": "a656f1ba-0ac4-40ca-9ee5-70c255acbce5",
   "metadata": {},
   "outputs": [],
   "source": [
    "df.rename(columns={'Title': 'title', 'Plot': 'plot'}, inplace=True)"
   ]
  },
  {
   "cell_type": "code",
   "execution_count": 5,
   "id": "725ecee3-4225-46c8-ad88-a351b6dd088c",
   "metadata": {},
   "outputs": [],
   "source": [
    "df = df[['title', 'plot']]"
   ]
  },
  {
   "cell_type": "code",
   "execution_count": 6,
   "id": "3d500ceb-1efe-4e01-a261-07946e67fc3c",
   "metadata": {},
   "outputs": [],
   "source": [
    "df.dropna(subset=['title', 'plot'], inplace=True)"
   ]
  },
  {
   "cell_type": "code",
   "execution_count": 7,
   "id": "c3f2fedf-a241-478e-8eb4-903e5539c4aa",
   "metadata": {},
   "outputs": [],
   "source": [
    "df['title'] = df['title'].str.lower().str.strip()"
   ]
  },
  {
   "cell_type": "code",
   "execution_count": 8,
   "id": "9c7e3d2a-2e80-4c5b-a690-c5d02965bae0",
   "metadata": {},
   "outputs": [],
   "source": [
    "def preprocess_text(text):\n",
    "    tokens = word_tokenize(str(text).lower())\n",
    "    tagged_tokens = pos_tag(tokens)\n",
    "    stop_words = set(stopwords.words('english'))\n",
    "    punct = string.punctuation\n",
    "    return [\n",
    "        (word, tag) for word, tag in tagged_tokens\n",
    "        if word not in stop_words and word not in punct and not word.isdigit()\n",
    "    ]"
   ]
  },
  {
   "cell_type": "code",
   "execution_count": 9,
   "id": "ff7efbf3-3f17-4c00-a68f-cd8e18bfba94",
   "metadata": {},
   "outputs": [
    {
     "name": "stdout",
     "output_type": "stream",
     "text": [
      "Data has been cleaned.\n"
     ]
    }
   ],
   "source": [
    "df['plot_cleaned'] = df['plot'].apply(preprocess_text)\n",
    "print(\"Data has been cleaned.\")"
   ]
  },
  {
   "cell_type": "code",
   "execution_count": 10,
   "id": "bd426d7b-5c32-42ce-a7f5-451eaef4862b",
   "metadata": {},
   "outputs": [],
   "source": [
    "corpus = [ [word for word, tag in tokens] for tokens in df['plot_cleaned'] if tokens ]\n",
    "word2vec_model = Word2Vec(sentences=corpus, vector_size=150, window=5, min_count=2, workers=4)"
   ]
  },
  {
   "cell_type": "code",
   "execution_count": 11,
   "id": "e223bca9-7d26-4719-b1a5-f7590566dc71",
   "metadata": {},
   "outputs": [],
   "source": [
    "vector_size = word2vec_model.wv.vector_size\n",
    "def create_document_vector(tokens, model):\n",
    "    words = [word for word, tag in tokens]\n",
    "    word_vectors = [model.wv[word] for word in words if word in model.wv]\n",
    "    if not word_vectors: return np.zeros(vector_size)\n",
    "    return np.mean(word_vectors, axis=0)"
   ]
  },
  {
   "cell_type": "code",
   "execution_count": 12,
   "id": "bac3aaea-f460-4a7f-98cf-8f9449eb5cfb",
   "metadata": {},
   "outputs": [
    {
     "name": "stdout",
     "output_type": "stream",
     "text": [
      "Word2Vec model trained and vectors created.\n"
     ]
    }
   ],
   "source": [
    "df['vector'] = df['plot_cleaned'].apply(lambda tokens: create_document_vector(tokens, word2vec_model))\n",
    "print(\"Word2Vec model trained and vectors created.\")\n"
   ]
  },
  {
   "cell_type": "code",
   "execution_count": 13,
   "id": "d05c2939-d39e-4256-9d0e-3a78a74ef21b",
   "metadata": {},
   "outputs": [
    {
     "data": {
      "text/plain": [
       "True"
      ]
     },
     "execution_count": 13,
     "metadata": {},
     "output_type": "execute_result"
    }
   ],
   "source": [
    "search_index = AnnoyIndex(vector_size, 'angular')\n",
    "df.reset_index(drop=True, inplace=True)\n",
    "for i, vector in enumerate(df['vector']):\n",
    "    search_index.add_item(i, vector)\n",
    "search_index.build(10)\n",
    "search_index.save('movie_index.ann')"
   ]
  },
  {
   "cell_type": "code",
   "execution_count": 14,
   "id": "459a0170-f02f-410b-8618-23f858877235",
   "metadata": {},
   "outputs": [],
   "source": [
    "word2vec_model.save(\"movie_word2vec.model\")"
   ]
  },
  {
   "cell_type": "code",
   "execution_count": 15,
   "id": "64dfdc8d-dcb4-4906-a204-c9fe8f9a958f",
   "metadata": {},
   "outputs": [],
   "source": [
    "final_df = df[['title', 'plot']]\n",
    "final_df.to_csv('final_movie_data.csv', index=False)"
   ]
  },
  {
   "cell_type": "code",
   "execution_count": 17,
   "id": "c473f36e-43a7-4181-8a0e-4e07d6e3806f",
   "metadata": {},
   "outputs": [
    {
     "name": "stdout",
     "output_type": "stream",
     "text": [
      "- Your custom model loaded successfully.\n"
     ]
    }
   ],
   "source": [
    "custom_model = Word2Vec.load(\"movie_word2vec.model\")\n",
    "print(\"- Your custom model loaded successfully.\")"
   ]
  },
  {
   "cell_type": "code",
   "execution_count": 21,
   "id": "1fa41447-6b3e-477f-bef9-282dcb53ae1d",
   "metadata": {},
   "outputs": [
    {
     "name": "stderr",
     "output_type": "stream",
     "text": [
      "2025-08-30 04:50:48,309 : INFO : loading projection weights from GoogleNews-vectors-negative300.bin\n",
      "2025-08-30 04:51:33,267 : INFO : KeyedVectors lifecycle event {'msg': 'loaded (3000000, 300) matrix of type float32 from GoogleNews-vectors-negative300.bin', 'binary': True, 'encoding': 'utf8', 'datetime': '2025-08-30T04:51:33.267029', 'gensim': '4.3.3', 'python': '3.12.4 (tags/v3.12.4:8e8a4ba, Jun  6 2024, 19:30:16) [MSC v.1940 64 bit (AMD64)]', 'platform': 'Windows-11-10.0.26100-SP0', 'event': 'load_word2vec_format'}\n"
     ]
    }
   ],
   "source": [
    "google_model = KeyedVectors.load_word2vec_format(\"GoogleNews-vectors-negative300.bin\", binary=True)"
   ]
  },
  {
   "cell_type": "code",
   "execution_count": 22,
   "id": "26f4cb74-cc95-48e1-85a2-6effac4776d6",
   "metadata": {},
   "outputs": [],
   "source": [
    "df = pd.read_csv('final_movie_data.csv')"
   ]
  },
  {
   "cell_type": "code",
   "execution_count": 23,
   "id": "f1efaa6f-6147-44e7-b59f-566b8b633b97",
   "metadata": {},
   "outputs": [],
   "source": [
    "VECTOR_SIZE = 300"
   ]
  },
  {
   "cell_type": "code",
   "execution_count": 24,
   "id": "47a27af4-4dc2-4905-8378-48d25943dceb",
   "metadata": {},
   "outputs": [],
   "source": [
    "def create_combined_vector(plot_text, google_model, custom_model):\n",
    "    # We need to re-run the basic text cleaning on the plot text\n",
    "    tokens = [word for word, tag in preprocess_text(plot_text)] # Assuming preprocess_text is in a cell above\n",
    "    \n",
    "    word_vectors = []\n",
    "    for word in tokens:\n",
    "        if word in google_model:\n",
    "            word_vectors.append(google_model[word])\n",
    "        elif word in custom_model.wv:\n",
    "            # Pad our smaller vector to match Google's 300 dimensions\n",
    "            custom_vector = custom_model.wv[word]\n",
    "            padded_vector = np.pad(custom_vector, (0, VECTOR_SIZE - len(custom_vector)), 'constant')\n",
    "            word_vectors.append(padded_vector)\n",
    "\n",
    "    if not word_vectors:\n",
    "        return np.zeros(VECTOR_SIZE)\n",
    "    return np.mean(word_vectors, axis=0)"
   ]
  },
  {
   "cell_type": "code",
   "execution_count": 25,
   "id": "20552bec-1ecd-4f17-ae19-0236c569c37e",
   "metadata": {},
   "outputs": [],
   "source": [
    "df['vector'] = df['plot'].apply(lambda text: create_combined_vector(text, google_model, custom_model))"
   ]
  },
  {
   "cell_type": "code",
   "execution_count": 26,
   "id": "27cfcf1d-f4d3-4d01-8c5c-50010de8ac4c",
   "metadata": {},
   "outputs": [
    {
     "data": {
      "text/plain": [
       "True"
      ]
     },
     "execution_count": 26,
     "metadata": {},
     "output_type": "execute_result"
    }
   ],
   "source": [
    "search_index = AnnoyIndex(VECTOR_SIZE, 'angular')\n",
    "for i, vector in enumerate(df['vector']):\n",
    "    search_index.add_item(i, vector)\n",
    "\n",
    "search_index.build(10)\n",
    "search_index.save('movie_index_combined.ann')"
   ]
  },
  {
   "cell_type": "code",
   "execution_count": 27,
   "id": "805fbf9d-24cd-4d6a-9e59-480451ef0a5c",
   "metadata": {},
   "outputs": [],
   "source": [
    "final_df = df[['title', 'plot']]\n",
    "final_df.to_csv('final_movie_data_combined.csv', index=False) "
   ]
  },
  {
   "cell_type": "code",
   "execution_count": null,
   "id": "6aad4879-a746-4cb9-8bb7-fedbd7276515",
   "metadata": {},
   "outputs": [],
   "source": []
  }
 ],
 "metadata": {
  "kernelspec": {
   "display_name": "Python 3 (ipykernel)",
   "language": "python",
   "name": "python3"
  },
  "language_info": {
   "codemirror_mode": {
    "name": "ipython",
    "version": 3
   },
   "file_extension": ".py",
   "mimetype": "text/x-python",
   "name": "python",
   "nbconvert_exporter": "python",
   "pygments_lexer": "ipython3",
   "version": "3.12.4"
  }
 },
 "nbformat": 4,
 "nbformat_minor": 5
}
