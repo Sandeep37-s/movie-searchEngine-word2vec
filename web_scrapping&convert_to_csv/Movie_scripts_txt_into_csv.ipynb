{
 "cells": [
  {
   "cell_type": "code",
   "execution_count": 1,
   "id": "fa30d823-c0f0-4b1f-85ca-c32b1a2cd9c3",
   "metadata": {},
   "outputs": [
    {
     "name": "stdout",
     "output_type": "stream",
     "text": [
      "✅ All non-empty scripts saved into movie_scripts.csv\n"
     ]
    }
   ],
   "source": [
    "import os\n",
    "import pandas as pd\n",
    "\n",
    "\n",
    "folder_path = \"movie_scripts\"  \n",
    "\n",
    "data = []\n",
    "\n",
    "for filename in os.listdir(folder_path):\n",
    "    if filename.endswith(\".txt\"):  # sirf txt files\n",
    "        file_path = os.path.join(folder_path, filename)\n",
    "        \n",
    "        \n",
    "        with open(file_path, \"r\", encoding=\"utf-8\", errors=\"ignore\") as f:\n",
    "            content = f.read().strip()\n",
    "            \n",
    "            \n",
    "            if content:\n",
    "                data.append({\"filename\": filename, \"script\": content})\n",
    "\n",
    "\n",
    "if data:\n",
    "    df = pd.DataFrame(data)\n",
    "    df.to_csv(\"movie_scripts.csv\", index=False, encoding=\"utf-8\")\n",
    "    print(\"✅ All non-empty scripts saved into movie_scripts.csv\")\n",
    "else:\n",
    "    print(\"⚠️ No non-empty files found!\")\n"
   ]
  },
  {
   "cell_type": "code",
   "execution_count": 4,
   "id": "c08c520f-5631-4515-bda8-0ec53becb14b",
   "metadata": {},
   "outputs": [],
   "source": [
    "df = pd.read_csv(\"movie_scripts.csv\")"
   ]
  },
  {
   "cell_type": "code",
   "execution_count": 5,
   "id": "fde6ef2b-9655-4970-9f42-3020a8db748d",
   "metadata": {},
   "outputs": [
    {
     "name": "stdout",
     "output_type": "stream",
     "text": [
      "Total movies: 469\n"
     ]
    }
   ],
   "source": [
    "print(\"Total movies:\", len(df))"
   ]
  },
  {
   "cell_type": "code",
   "execution_count": 7,
   "id": "cae5c5ea-9e79-40b8-b3cc-c1101ef08af1",
   "metadata": {},
   "outputs": [],
   "source": [
    "df[\"filename\"] = df[\"filename\"].str.replace(\".txt\", \"\", regex=False)"
   ]
  },
  {
   "cell_type": "code",
   "execution_count": 8,
   "id": "be5f8ffd-0b50-4682-a901-11e5f2e0e96b",
   "metadata": {},
   "outputs": [],
   "source": [
    "df.to_csv(\"movie_scripts.csv\", index=False)"
   ]
  },
  {
   "cell_type": "code",
   "execution_count": null,
   "id": "0a59ce1f-3ae5-4e78-a4f7-a7f519471c8f",
   "metadata": {},
   "outputs": [],
   "source": []
  }
 ],
 "metadata": {
  "kernelspec": {
   "display_name": "Python 3 (ipykernel)",
   "language": "python",
   "name": "python3"
  },
  "language_info": {
   "codemirror_mode": {
    "name": "ipython",
    "version": 3
   },
   "file_extension": ".py",
   "mimetype": "text/x-python",
   "name": "python",
   "nbconvert_exporter": "python",
   "pygments_lexer": "ipython3",
   "version": "3.12.4"
  }
 },
 "nbformat": 4,
 "nbformat_minor": 5
}
